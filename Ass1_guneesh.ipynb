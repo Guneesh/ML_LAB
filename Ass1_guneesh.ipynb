{
 "cells": [
  {
   "cell_type": "code",
   "execution_count": 1,
   "metadata": {},
   "outputs": [
    {
     "name": "stdout",
     "output_type": "stream",
     "text": [
      "Enter Your Name\tGuneesh\n",
      "Enter You Age\t22\n",
      "Enter the Number of times you want to print Message \t10\n",
      "Hello! Guneesh, and you will be of 100 years in 2099\n",
      "\n",
      "Printing Multiple copies \n",
      "\n",
      "Hello! Guneesh, and you will be of 100 years in 2099\n",
      "\n",
      "Hello! Guneesh, and you will be of 100 years in 2099\n",
      "\n",
      "Hello! Guneesh, and you will be of 100 years in 2099\n",
      "\n",
      "Hello! Guneesh, and you will be of 100 years in 2099\n",
      "\n",
      "Hello! Guneesh, and you will be of 100 years in 2099\n",
      "\n",
      "Hello! Guneesh, and you will be of 100 years in 2099\n",
      "\n",
      "Hello! Guneesh, and you will be of 100 years in 2099\n",
      "\n",
      "Hello! Guneesh, and you will be of 100 years in 2099\n",
      "\n",
      "Hello! Guneesh, and you will be of 100 years in 2099\n",
      "\n",
      "Hello! Guneesh, and you will be of 100 years in 2099\n",
      "\n"
     ]
    }
   ],
   "source": [
    "import datetime\n",
    "## Question 1\n",
    "def printName():\n",
    "  name = input(\"Enter Your Name\\t\")\n",
    "  age = int(input(\"Enter You Age\\t\"))\n",
    "  number = int(input(\"Enter the Number of times you want to print Message \\t\"))\n",
    "  age_100 = (datetime.datetime.now().year) + (100-age)\n",
    "  print(\"Hello! \"+name+ \", and you will be of 100 years in \"+ str(age_100)+\"\\n\")\n",
    "\n",
    "  print(\"Printing Multiple copies \\n\")\n",
    "  for i in range(number):\n",
    "    print(\"Hello! \"+name+ \", and you will be of 100 years in \"+ str(age_100)+\"\\n\")\n",
    "  \n",
    "\n",
    "printName()"
   ]
  },
  {
   "cell_type": "code",
   "execution_count": 1,
   "metadata": {},
   "outputs": [
    {
     "name": "stdout",
     "output_type": "stream",
     "text": [
      "1\n",
      "1\n",
      "2\n",
      "3\n",
      "New List is [1, 1, 2, 3]\n",
      "New List in one line is[1, 1, 2, 3]\n",
      "Enter the number to find element smaller than the number24\n",
      "Elements smaller than24 are [1, 1, 2, 3, 5, 8, 13, 21]\n"
     ]
    }
   ],
   "source": [
    "\n",
    "## Question 2\n",
    "def printele(lst):\n",
    "  # Printing Elements Less than 5\n",
    "  new_lst = []\n",
    "  for i in lst:\n",
    "    if i<5: \n",
    "      print(i)\n",
    "      ##1. Appending in List\n",
    "      new_lst.append(i)\n",
    "  print(\"New List is {}\".format(new_lst))\n",
    "\n",
    "  ##2. Appending in one line\n",
    "  new_lst2 = [x for x in lst if x<5]\n",
    "  print(\"New List in one line is{}\".format(new_lst2))\n",
    "\n",
    "  ##3. Asking user and responding accordingly\n",
    "  number = int(input(\"Enter the number to find element smaller than the number\"))\n",
    "  new_lst3 = [x for x in lst if x<number]\n",
    "  print(\"Elements smaller than{} are {}\".format(number, new_lst3))\n",
    "\n",
    "\n",
    "\n",
    "a = [1, 1, 2, 3, 5, 8, 13, 21, 34, 55, 89]\n",
    "printele(a)"
   ]
  },
  {
   "cell_type": "code",
   "execution_count": 7,
   "metadata": {},
   "outputs": [
    {
     "name": "stdout",
     "output_type": "stream",
     "text": [
      "Fibonacci sequence:\n",
      "0\n",
      "1\n",
      "1\n",
      "2\n",
      "3\n",
      "5\n",
      "8\n",
      "13\n",
      "21\n"
     ]
    }
   ],
   "source": [
    "## Question 3 Fibonacci series\n",
    "\n",
    "def recur_fibo(n):\n",
    "   if n <= 1:\n",
    "       return n\n",
    "   else:\n",
    "       return(recur_fibo(n-1) + recur_fibo(n-2))\n",
    "\n",
    "nterms = 9\n",
    "\n",
    "# check if the number of terms is valid\n",
    "if nterms <= 0:\n",
    "   print(\"Plese enter a positive integer\")\n",
    "else:\n",
    "   print(\"Fibonacci sequence:\")\n",
    "   for i in range(nterms):\n",
    "          print(recur_fibo(i))"
   ]
  },
  {
   "cell_type": "code",
   "execution_count": 8,
   "metadata": {},
   "outputs": [
    {
     "name": "stdout",
     "output_type": "stream",
     "text": [
      "Without using Sets\n",
      "1\n",
      "2\n",
      "3\n",
      "5\n",
      "8\n",
      "13\n",
      "21\n",
      "34\n",
      "55\n",
      "89\n"
     ]
    }
   ],
   "source": [
    "# Question 4\n",
    "def lst_unique(lst):\n",
    "  unique = []\n",
    "  for l in lst:\n",
    "    if l not in unique:\n",
    "      unique.append(l)\n",
    "  for x in unique:\n",
    "    print(x)\n",
    "\n",
    "def using_set(lst):\n",
    "  list_set = set(lst)\n",
    "  unique_list = list(list_set)\n",
    "  for x in unique_list:\n",
    "    print(x)\n",
    "\n",
    "a = [1, 1, 2, 3, 5, 8, 13, 21, 34, 55, 89, 21, 89]\n",
    "print(\"Without using Sets\")\n",
    "lst_unique(a)"
   ]
  },
  {
   "cell_type": "code",
   "execution_count": 9,
   "metadata": {},
   "outputs": [
    {
     "name": "stdout",
     "output_type": "stream",
     "text": [
      "Enter Number you want to check \t3\n",
      "Number is Prime\n"
     ]
    }
   ],
   "source": [
    "## Question 5\n",
    "def prime_check():\n",
    "  num = int(input(\"Enter Number you want to check \\t\"))\n",
    "  flag = 1\n",
    "  for i in range(2, int(num/2)):\n",
    "    if(num%i == 0):\n",
    "      flag = 0\n",
    "      break\n",
    "  if(flag==0):\n",
    "    print(\"Number is not Prime\")\n",
    "  else:\n",
    "    print(\"Number is Prime\")\n",
    "\n",
    "prime_check()"
   ]
  },
  {
   "cell_type": "code",
   "execution_count": null,
   "metadata": {},
   "outputs": [],
   "source": []
  }
 ],
 "metadata": {
  "kernelspec": {
   "display_name": "Python 3",
   "language": "python",
   "name": "python3"
  },
  "language_info": {
   "codemirror_mode": {
    "name": "ipython",
    "version": 3
   },
   "file_extension": ".py",
   "mimetype": "text/x-python",
   "name": "python",
   "nbconvert_exporter": "python",
   "pygments_lexer": "ipython3",
   "version": "3.8.3"
  }
 },
 "nbformat": 4,
 "nbformat_minor": 4
}
